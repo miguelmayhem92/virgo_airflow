{
 "cells": [
  {
   "cell_type": "code",
   "execution_count": 11,
   "metadata": {},
   "outputs": [],
   "source": [
    "import os\n",
    "import json\n",
    "import pydrive\n",
    "from pydrive.auth import GoogleAuth\n",
    "from pydrive.drive import GoogleDrive"
   ]
  },
  {
   "cell_type": "code",
   "execution_count": 12,
   "metadata": {},
   "outputs": [
    {
     "name": "stdout",
     "output_type": "stream",
     "text": [
      "Your browser has been opened to visit:\n",
      "\n",
      "    https://accounts.google.com/o/oauth2/auth?client_id=958497112279-8vd5d4ja0r4imq6ohad3mj9me5hhnb8p.apps.googleusercontent.com&redirect_uri=http%3A%2F%2Flocalhost%3A8080%2F&scope=https%3A%2F%2Fwww.googleapis.com%2Fauth%2Fdrive&access_type=offline&response_type=code&approval_prompt=force\n",
      "\n",
      "Authentication successful.\n"
     ]
    }
   ],
   "source": [
    "root = os.getcwd()\n",
    "\n",
    "gauth = GoogleAuth()       \n",
    "gauth.DEFAULT_SETTINGS['client_config_file'] = f'{root}/tmp_data/client_secrets.json'\n",
    "gauth.LocalWebserverAuth()\n",
    "drive = GoogleDrive(gauth)\n",
    "\n",
    "key_id = '1OeHp-PDisvt3Et6CzlUK6J5o8d_Omm9R'\n",
    "#root = \"C:/Users/Miguel/virgo_airflow/tmp_data/\"\n",
    "filename = '/tmp_data/stocks_dashboard.html'\n",
    "\n",
    "upload_file= f'{root}{filename}'\n",
    "\n",
    "\n",
    "gfile = drive.CreateFile(\n",
    "    {\n",
    "        'title': filename,\n",
    "        'parents': [{'id': key_id}]\n",
    "    }\n",
    ")\n",
    "\n",
    "gfile.SetContentFile(upload_file)\n",
    "gfile.Upload()"
   ]
  },
  {
   "cell_type": "code",
   "execution_count": 13,
   "metadata": {},
   "outputs": [
    {
     "ename": "KeyError",
     "evalue": "'_module'",
     "output_type": "error",
     "traceback": [
      "\u001b[1;31m---------------------------------------------------------------------------\u001b[0m",
      "\u001b[1;31mKeyError\u001b[0m                                  Traceback (most recent call last)",
      "Cell \u001b[1;32mIn[13], line 3\u001b[0m\n\u001b[0;32m      1\u001b[0m gauth \u001b[39m=\u001b[39m GoogleAuth()\n\u001b[0;32m      2\u001b[0m \u001b[39m# Try to load saved client credentials\u001b[39;00m\n\u001b[1;32m----> 3\u001b[0m gauth\u001b[39m.\u001b[39;49mLoadCredentialsFile(\u001b[39m\"\u001b[39;49m\u001b[39mmycreds.txt\u001b[39;49m\u001b[39m\"\u001b[39;49m)\n\u001b[0;32m      4\u001b[0m \u001b[39mif\u001b[39;00m gauth\u001b[39m.\u001b[39mcredentials \u001b[39mis\u001b[39;00m \u001b[39mNone\u001b[39;00m:\n\u001b[0;32m      5\u001b[0m     \u001b[39m# Authenticate if they're not there\u001b[39;00m\n\u001b[0;32m      6\u001b[0m     gauth\u001b[39m.\u001b[39mLocalWebserverAuth()\n",
      "File \u001b[1;32mc:\\Users\\Miguel\\AppData\\Local\\Programs\\Python\\Python39\\lib\\site-packages\\pydrive\\auth.py:308\u001b[0m, in \u001b[0;36mGoogleAuth.LoadCredentialsFile\u001b[1;34m(self, credentials_file)\u001b[0m\n\u001b[0;32m    306\u001b[0m \u001b[39mtry\u001b[39;00m:\n\u001b[0;32m    307\u001b[0m   storage \u001b[39m=\u001b[39m Storage(credentials_file)\n\u001b[1;32m--> 308\u001b[0m   \u001b[39mself\u001b[39m\u001b[39m.\u001b[39mcredentials \u001b[39m=\u001b[39m storage\u001b[39m.\u001b[39;49mget()\n\u001b[0;32m    309\u001b[0m \u001b[39mexcept\u001b[39;00m \u001b[39mIOError\u001b[39;00m:\n\u001b[0;32m    310\u001b[0m   \u001b[39mraise\u001b[39;00m InvalidCredentialsError(\u001b[39m'\u001b[39m\u001b[39mCredentials file cannot be symbolic link\u001b[39m\u001b[39m'\u001b[39m)\n",
      "File \u001b[1;32mc:\\Users\\Miguel\\AppData\\Local\\Programs\\Python\\Python39\\lib\\site-packages\\oauth2client\\client.py:407\u001b[0m, in \u001b[0;36mStorage.get\u001b[1;34m(self)\u001b[0m\n\u001b[0;32m    405\u001b[0m \u001b[39mself\u001b[39m\u001b[39m.\u001b[39macquire_lock()\n\u001b[0;32m    406\u001b[0m \u001b[39mtry\u001b[39;00m:\n\u001b[1;32m--> 407\u001b[0m     \u001b[39mreturn\u001b[39;00m \u001b[39mself\u001b[39;49m\u001b[39m.\u001b[39;49mlocked_get()\n\u001b[0;32m    408\u001b[0m \u001b[39mfinally\u001b[39;00m:\n\u001b[0;32m    409\u001b[0m     \u001b[39mself\u001b[39m\u001b[39m.\u001b[39mrelease_lock()\n",
      "File \u001b[1;32mc:\\Users\\Miguel\\AppData\\Local\\Programs\\Python\\Python39\\lib\\site-packages\\oauth2client\\file.py:54\u001b[0m, in \u001b[0;36mStorage.locked_get\u001b[1;34m(self)\u001b[0m\n\u001b[0;32m     51\u001b[0m     \u001b[39mreturn\u001b[39;00m credentials\n\u001b[0;32m     53\u001b[0m \u001b[39mtry\u001b[39;00m:\n\u001b[1;32m---> 54\u001b[0m     credentials \u001b[39m=\u001b[39m client\u001b[39m.\u001b[39;49mCredentials\u001b[39m.\u001b[39;49mnew_from_json(content)\n\u001b[0;32m     55\u001b[0m     credentials\u001b[39m.\u001b[39mset_store(\u001b[39mself\u001b[39m)\n\u001b[0;32m     56\u001b[0m \u001b[39mexcept\u001b[39;00m \u001b[39mValueError\u001b[39;00m:\n",
      "File \u001b[1;32mc:\\Users\\Miguel\\AppData\\Local\\Programs\\Python\\Python39\\lib\\site-packages\\oauth2client\\client.py:302\u001b[0m, in \u001b[0;36mCredentials.new_from_json\u001b[1;34m(cls, json_data)\u001b[0m\n\u001b[0;32m    299\u001b[0m data \u001b[39m=\u001b[39m json\u001b[39m.\u001b[39mloads(json_data_as_unicode)\n\u001b[0;32m    300\u001b[0m \u001b[39m# Find and call the right classmethod from_json() to restore\u001b[39;00m\n\u001b[0;32m    301\u001b[0m \u001b[39m# the object.\u001b[39;00m\n\u001b[1;32m--> 302\u001b[0m module_name \u001b[39m=\u001b[39m data[\u001b[39m'\u001b[39;49m\u001b[39m_module\u001b[39;49m\u001b[39m'\u001b[39;49m]\n\u001b[0;32m    303\u001b[0m \u001b[39mtry\u001b[39;00m:\n\u001b[0;32m    304\u001b[0m     module_obj \u001b[39m=\u001b[39m \u001b[39m__import__\u001b[39m(module_name)\n",
      "\u001b[1;31mKeyError\u001b[0m: '_module'"
     ]
    }
   ],
   "source": [
    "gauth = GoogleAuth()\n",
    "# Try to load saved client credentials\n",
    "gauth.LoadCredentialsFile(\"mycreds.txt\")\n",
    "if gauth.credentials is None:\n",
    "    # Authenticate if they're not there\n",
    "    gauth.LocalWebserverAuth()\n",
    "elif gauth.access_token_expired:\n",
    "    # Refresh them if expired\n",
    "    gauth.Refresh()\n",
    "else:\n",
    "    # Initialize the saved creds\n",
    "    gauth.Authorize()\n",
    "# Save the current credentials to a file\n",
    "gauth.SaveCredentialsFile(\"mycreds.txt\")\n",
    "\n",
    "drive = GoogleDrive(gauth)\n",
    "\n",
    "gfile = drive.CreateFile(\n",
    "    {\n",
    "        'title': filename,\n",
    "        'parents': [{'id': key_id}]\n",
    "    }\n",
    ")\n",
    "\n",
    "gfile.SetContentFile(upload_file)\n",
    "gfile.Upload()"
   ]
  },
  {
   "cell_type": "code",
   "execution_count": null,
   "metadata": {},
   "outputs": [],
   "source": []
  }
 ],
 "metadata": {
  "kernelspec": {
   "display_name": "Python 3",
   "language": "python",
   "name": "python3"
  },
  "language_info": {
   "codemirror_mode": {
    "name": "ipython",
    "version": 3
   },
   "file_extension": ".py",
   "mimetype": "text/x-python",
   "name": "python",
   "nbconvert_exporter": "python",
   "pygments_lexer": "ipython3",
   "version": "3.9.7"
  },
  "orig_nbformat": 4
 },
 "nbformat": 4,
 "nbformat_minor": 2
}
