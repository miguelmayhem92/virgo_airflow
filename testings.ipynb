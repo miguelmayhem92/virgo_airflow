{
 "cells": [
  {
   "cell_type": "code",
   "execution_count": 1,
   "metadata": {},
   "outputs": [],
   "source": [
    "import mlflow.pyfunc\n",
    "from mlflow import MlflowClient"
   ]
  },
  {
   "cell_type": "code",
   "execution_count": 26,
   "metadata": {},
   "outputs": [],
   "source": [
    "class call_params_from_mlflow():\n",
    "    \n",
    "    def __init__(self, stock_code):\n",
    "        \n",
    "        self.stock_code = stock_code\n",
    "        \n",
    "    def get_model(self):\n",
    "\n",
    "        registered_model_name = f'{self.stock_code}_models'\n",
    "        filter_registered_model_name = \"name='{}'\".format(registered_model_name)\n",
    "\n",
    "        client = MlflowClient()\n",
    "        latest_version_info = client.get_latest_versions(registered_model_name, stages=[\"Production\"])\n",
    "        latest_production_version = latest_version_info[0].version\n",
    "\n",
    "        for mv in client.search_model_versions(filter_string = f'{filter_registered_model_name}'):\n",
    "            mv = dict(mv)\n",
    "            if mv['version'] == latest_production_version:\n",
    "                run_id = mv['run_id']\n",
    "                break\n",
    "\n",
    "        model_params = client.get_run(run_id).data.params\n",
    "        self.lag_days = int(model_params['lag_days'])\n",
    "        self.input_length = int(model_params['input_length'])\n",
    "        self.OUT_STEPS = int(model_params['OUT_STEPS'])\n",
    "\n",
    "        model_version = latest_production_version\n",
    "        self.model_version = model_version\n",
    "\n",
    "        model = mlflow.pyfunc.load_model(\n",
    "            model_uri=f\"models:/{registered_model_name}/{model_version}\"\n",
    "        )\n",
    "\n",
    "        self.model = model "
   ]
  },
  {
   "cell_type": "code",
   "execution_count": 28,
   "metadata": {},
   "outputs": [],
   "source": [
    "gato = call_params_from_mlflow('PCAR')"
   ]
  },
  {
   "cell_type": "code",
   "execution_count": 29,
   "metadata": {},
   "outputs": [
    {
     "name": "stderr",
     "output_type": "stream",
     "text": [
      "2023/03/29 19:59:58 WARNING mlflow.pyfunc: Detected one or more mismatches between the model's dependencies and the current Python environment:\n",
      " - pandas (current: 1.3.5, required: pandas==1.5.3)\n",
      " - scipy (current: 1.9.0, required: scipy==1.10.0)\n",
      "To fix the mismatches, call `mlflow.pyfunc.get_model_dependencies(model_uri)` to fetch the model's environment and install dependencies using the resulting environment file.\n",
      "2023/03/29 19:59:58 WARNING mlflow.pyfunc: The version of Python that the model was saved in, `Python 3.10.9`, differs from the version of Python that is currently running, `Python 3.9.7`, and may be incompatible\n",
      "c:\\Users\\Miguel\\AppData\\Local\\Programs\\Python\\Python39\\lib\\site-packages\\keras\\backend.py:451: UserWarning: `tf.keras.backend.set_learning_phase` is deprecated and will be removed after 2020-10-11. To update it, simply pass a True/False value to the `training` argument of the `__call__` method of your layer or model.\n",
      "  warnings.warn(\n",
      "c:\\Users\\Miguel\\AppData\\Local\\Programs\\Python\\Python39\\lib\\site-packages\\keras\\layers\\core\\lambda_layer.py:324: UserWarning: MLModel.custom_modules.crossvalidation is not loaded, but a Lambda layer uses it. It may cause errors.\n",
      "  function = cls._parse_function_from_config(\n"
     ]
    }
   ],
   "source": [
    "gato.get_model()"
   ]
  },
  {
   "cell_type": "code",
   "execution_count": 31,
   "metadata": {},
   "outputs": [
    {
     "data": {
      "text/plain": [
       "mlflow.pyfunc.loaded_model:\n",
       "  artifact_path: PCAR-run\n",
       "  flavor: mlflow.tensorflow\n",
       "  run_id: e465d94b088a448982d94a97b06ab445"
      ]
     },
     "execution_count": 31,
     "metadata": {},
     "output_type": "execute_result"
    }
   ],
   "source": [
    "gato.model"
   ]
  },
  {
   "cell_type": "code",
   "execution_count": 9,
   "metadata": {},
   "outputs": [],
   "source": [
    "stock_code = 'PCAR'"
   ]
  },
  {
   "cell_type": "code",
   "execution_count": 3,
   "metadata": {},
   "outputs": [],
   "source": [
    "registered_model_name = f'{stock_code}_models'\n",
    "filter_registered_model_name = \"name='{}'\".format(registered_model_name)\n",
    "\n",
    "client = MlflowClient()\n",
    "latest_version_info = client.get_latest_versions(registered_model_name, stages=[\"Production\"])\n",
    "latest_production_version = latest_version_info[0].version\n",
    "\n",
    "for mv in client.search_model_versions(filter_string = f'{filter_registered_model_name}'):\n",
    "    mv = dict(mv)\n",
    "    if mv['version'] == latest_production_version:\n",
    "        run_id = mv['run_id']\n",
    "        break\n",
    "model_version = latest_production_version"
   ]
  },
  {
   "cell_type": "code",
   "execution_count": 4,
   "metadata": {},
   "outputs": [
    {
     "data": {
      "text/plain": [
       "'e465d94b088a448982d94a97b06ab445'"
      ]
     },
     "execution_count": 4,
     "metadata": {},
     "output_type": "execute_result"
    }
   ],
   "source": [
    "run_id"
   ]
  },
  {
   "cell_type": "code",
   "execution_count": 9,
   "metadata": {},
   "outputs": [
    {
     "name": "stderr",
     "output_type": "stream",
     "text": [
      "2023/03/30 13:48:36 WARNING mlflow.pyfunc: Detected one or more mismatches between the model's dependencies and the current Python environment:\n",
      " - pandas (current: 1.3.5, required: pandas==1.5.3)\n",
      " - scipy (current: 1.9.0, required: scipy==1.10.0)\n",
      "To fix the mismatches, call `mlflow.pyfunc.get_model_dependencies(model_uri)` to fetch the model's environment and install dependencies using the resulting environment file.\n",
      "2023/03/30 13:48:36 WARNING mlflow.pyfunc: The version of Python that the model was saved in, `Python 3.10.9`, differs from the version of Python that is currently running, `Python 3.9.7`, and may be incompatible\n",
      "c:\\Users\\Miguel\\AppData\\Local\\Programs\\Python\\Python39\\lib\\site-packages\\keras\\backend.py:451: UserWarning: `tf.keras.backend.set_learning_phase` is deprecated and will be removed after 2020-10-11. To update it, simply pass a True/False value to the `training` argument of the `__call__` method of your layer or model.\n",
      "  warnings.warn(\n",
      "c:\\Users\\Miguel\\AppData\\Local\\Programs\\Python\\Python39\\lib\\site-packages\\keras\\layers\\core\\lambda_layer.py:324: UserWarning: MLModel.custom_modules.crossvalidation is not loaded, but a Lambda layer uses it. It may cause errors.\n",
      "  function = cls._parse_function_from_config(\n"
     ]
    }
   ],
   "source": [
    "model = mlflow.pyfunc.load_model(\n",
    "            model_uri=f\"models:/{registered_model_name}/{model_version}\"\n",
    "        )"
   ]
  },
  {
   "cell_type": "code",
   "execution_count": 12,
   "metadata": {},
   "outputs": [
    {
     "name": "stderr",
     "output_type": "stream",
     "text": [
      "2023/03/30 13:54:59 WARNING mlflow.pyfunc: Detected one or more mismatches between the model's dependencies and the current Python environment:\n",
      " - pandas (current: 1.3.5, required: pandas==1.5.3)\n",
      " - scipy (current: 1.9.0, required: scipy==1.10.0)\n",
      "To fix the mismatches, call `mlflow.pyfunc.get_model_dependencies(model_uri)` to fetch the model's environment and install dependencies using the resulting environment file.\n",
      "2023/03/30 13:54:59 WARNING mlflow.pyfunc: The version of Python that the model was saved in, `Python 3.10.9`, differs from the version of Python that is currently running, `Python 3.9.7`, and may be incompatible\n",
      "c:\\Users\\Miguel\\AppData\\Local\\Programs\\Python\\Python39\\lib\\site-packages\\keras\\backend.py:451: UserWarning: `tf.keras.backend.set_learning_phase` is deprecated and will be removed after 2020-10-11. To update it, simply pass a True/False value to the `training` argument of the `__call__` method of your layer or model.\n",
      "  warnings.warn(\n",
      "c:\\Users\\Miguel\\AppData\\Local\\Programs\\Python\\Python39\\lib\\site-packages\\keras\\layers\\core\\lambda_layer.py:324: UserWarning: MLModel.custom_modules.crossvalidation is not loaded, but a Lambda layer uses it. It may cause errors.\n",
      "  function = cls._parse_function_from_config(\n"
     ]
    }
   ],
   "source": [
    "model = mlflow.pyfunc.load_model(\n",
    "            model_uri=f\"runs:/{run_id}/{stock_code}-run\"\n",
    "        )"
   ]
  },
  {
   "cell_type": "code",
   "execution_count": 16,
   "metadata": {},
   "outputs": [],
   "source": [
    "import os \n",
    "path = os.getcwd()"
   ]
  },
  {
   "cell_type": "code",
   "execution_count": 19,
   "metadata": {},
   "outputs": [
    {
     "data": {
      "text/plain": [
       "('c:\\\\Users\\\\Miguel\\\\virgo_airflow', 'e465d94b088a448982d94a97b06ab445')"
      ]
     },
     "execution_count": 19,
     "metadata": {},
     "output_type": "execute_result"
    }
   ],
   "source": [
    "path, run_id"
   ]
  },
  {
   "cell_type": "code",
   "execution_count": 18,
   "metadata": {},
   "outputs": [
    {
     "name": "stderr",
     "output_type": "stream",
     "text": [
      "2023/03/30 20:49:08 WARNING mlflow.pyfunc: Detected one or more mismatches between the model's dependencies and the current Python environment:\n",
      " - pandas (current: 1.3.5, required: pandas==1.5.3)\n",
      " - scipy (current: 1.9.0, required: scipy==1.10.0)\n",
      "To fix the mismatches, call `mlflow.pyfunc.get_model_dependencies(model_uri)` to fetch the model's environment and install dependencies using the resulting environment file.\n",
      "2023/03/30 20:49:08 WARNING mlflow.pyfunc: The version of Python that the model was saved in, `Python 3.10.9`, differs from the version of Python that is currently running, `Python 3.9.7`, and may be incompatible\n",
      "c:\\Users\\Miguel\\AppData\\Local\\Programs\\Python\\Python39\\lib\\site-packages\\keras\\backend.py:451: UserWarning: `tf.keras.backend.set_learning_phase` is deprecated and will be removed after 2020-10-11. To update it, simply pass a True/False value to the `training` argument of the `__call__` method of your layer or model.\n",
      "  warnings.warn(\n",
      "c:\\Users\\Miguel\\AppData\\Local\\Programs\\Python\\Python39\\lib\\site-packages\\keras\\layers\\core\\lambda_layer.py:324: UserWarning: MLModel.custom_modules.crossvalidation is not loaded, but a Lambda layer uses it. It may cause errors.\n",
      "  function = cls._parse_function_from_config(\n"
     ]
    }
   ],
   "source": [
    "\n",
    "model = mlflow.pyfunc.load_model(\n",
    "            model_uri=f\"^{path}/mlruns/{run_id}/artifacts/{stock_code}-run\"\n",
    "        )"
   ]
  },
  {
   "cell_type": "code",
   "execution_count": 7,
   "metadata": {},
   "outputs": [
    {
     "name": "stderr",
     "output_type": "stream",
     "text": [
      "c:\\Users\\Miguel\\AppData\\Local\\Programs\\Python\\Python39\\lib\\site-packages\\keras\\layers\\core\\lambda_layer.py:324: UserWarning: MLModel.custom_modules.crossvalidation is not loaded, but a Lambda layer uses it. It may cause errors.\n",
      "  function = cls._parse_function_from_config(\n"
     ]
    }
   ],
   "source": [
    "model_local_path = mlflow.artifacts.download_artifacts(\n",
    "    run_id= run_id,\n",
    "    artifact_path=f\"{stock_code}-run\"\n",
    ")   \n",
    "\n",
    "best_model = mlflow.tensorflow.load_model(model_local_path) ## from runs"
   ]
  },
  {
   "cell_type": "code",
   "execution_count": 11,
   "metadata": {},
   "outputs": [],
   "source": [
    "model_uri = f\"runs:/{run_id}/{stock_code}-run\""
   ]
  },
  {
   "cell_type": "code",
   "execution_count": 14,
   "metadata": {},
   "outputs": [
    {
     "name": "stderr",
     "output_type": "stream",
     "text": [
      "c:\\Users\\Miguel\\AppData\\Local\\Programs\\Python\\Python39\\lib\\site-packages\\keras\\backend.py:451: UserWarning: `tf.keras.backend.set_learning_phase` is deprecated and will be removed after 2020-10-11. To update it, simply pass a True/False value to the `training` argument of the `__call__` method of your layer or model.\n",
      "  warnings.warn(\n",
      "c:\\Users\\Miguel\\AppData\\Local\\Programs\\Python\\Python39\\lib\\site-packages\\keras\\layers\\core\\lambda_layer.py:324: UserWarning: MLModel.custom_modules.crossvalidation is not loaded, but a Lambda layer uses it. It may cause errors.\n",
      "  function = cls._parse_function_from_config(\n"
     ]
    }
   ],
   "source": [
    "\n",
    "model = mlflow.pyfunc.load_model(\n",
    "            model_uri=model_uri,\n",
    "            suppress_warnings = True\n",
    "        )"
   ]
  },
  {
   "cell_type": "code",
   "execution_count": null,
   "metadata": {},
   "outputs": [],
   "source": []
  }
 ],
 "metadata": {
  "kernelspec": {
   "display_name": "Python 3",
   "language": "python",
   "name": "python3"
  },
  "language_info": {
   "codemirror_mode": {
    "name": "ipython",
    "version": 3
   },
   "file_extension": ".py",
   "mimetype": "text/x-python",
   "name": "python",
   "nbconvert_exporter": "python",
   "pygments_lexer": "ipython3",
   "version": "3.9.7"
  },
  "orig_nbformat": 4
 },
 "nbformat": 4,
 "nbformat_minor": 2
}
