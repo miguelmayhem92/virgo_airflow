{
 "cells": [
  {
   "cell_type": "markdown",
   "id": "e8f9b8ad",
   "metadata": {
    "papermill": {
     "duration": null,
     "end_time": null,
     "exception": null,
     "start_time": null,
     "status": "completed"
    },
    "tags": []
   },
   "source": [
    "# Virgo: Portfolio optimization"
   ]
  },
  {
   "attachments": {},
   "cell_type": "markdown",
   "id": "4cfdd5a8",
   "metadata": {
    "papermill": {
     "duration": null,
     "end_time": null,
     "exception": null,
     "start_time": null,
     "status": "completed"
    },
    "tags": []
   },
   "source": [
    "## Libraries"
   ]
  },
  {
   "cell_type": "code",
   "execution_count": null,
   "id": "969169f4",
   "metadata": {
    "papermill": {
     "duration": null,
     "end_time": null,
     "exception": null,
     "start_time": null,
     "status": "completed"
    },
    "tags": []
   },
   "outputs": [],
   "source": [
    "import yfinance as yf\n",
    "import pandas as pd\n",
    "import numpy as np\n",
    "import os"
   ]
  },
  {
   "cell_type": "code",
   "execution_count": null,
   "id": "2ee6dc79",
   "metadata": {
    "papermill": {
     "duration": null,
     "end_time": null,
     "exception": null,
     "start_time": null,
     "status": "completed"
    },
    "tags": []
   },
   "outputs": [],
   "source": [
    "import matplotlib.pyplot as plt\n",
    "import matplotlib.gridspec as gridspec\n",
    "import seaborn as sns; sns.set()\n",
    "\n",
    "import plotly.express as px\n",
    "from plotly.subplots import make_subplots\n",
    "import plotly.graph_objects as go"
   ]
  },
  {
   "cell_type": "code",
   "execution_count": null,
   "id": "56b02569",
   "metadata": {
    "papermill": {
     "duration": null,
     "end_time": null,
     "exception": null,
     "start_time": null,
     "status": "completed"
    },
    "tags": []
   },
   "outputs": [],
   "source": [
    "import datetime\n",
    "from dateutil.relativedelta import relativedelta"
   ]
  },
  {
   "cell_type": "code",
   "execution_count": null,
   "id": "95bbf763",
   "metadata": {
    "papermill": {
     "duration": null,
     "end_time": null,
     "exception": null,
     "start_time": null,
     "status": "completed"
    },
    "tags": []
   },
   "outputs": [],
   "source": [
    "import data_functions\n",
    "import configs"
   ]
  },
  {
   "cell_type": "code",
   "execution_count": null,
   "id": "104e2038",
   "metadata": {
    "papermill": {
     "duration": null,
     "end_time": null,
     "exception": null,
     "start_time": null,
     "status": "completed"
    },
    "tags": []
   },
   "outputs": [],
   "source": [
    "import warnings\n",
    "warnings.filterwarnings('ignore')"
   ]
  },
  {
   "attachments": {},
   "cell_type": "markdown",
   "id": "5c003e41",
   "metadata": {
    "papermill": {
     "duration": null,
     "end_time": null,
     "exception": null,
     "start_time": null,
     "status": "completed"
    },
    "tags": []
   },
   "source": [
    "## Configs"
   ]
  },
  {
   "cell_type": "code",
   "execution_count": null,
   "id": "789adf77",
   "metadata": {
    "papermill": {
     "duration": null,
     "end_time": null,
     "exception": null,
     "start_time": null,
     "status": "completed"
    },
    "tags": []
   },
   "outputs": [],
   "source": [
    "root = os.getcwd()\n",
    "#root = \"C:/Users/Miguel/virgo_airflow/tmp_data/\""
   ]
  },
  {
   "cell_type": "code",
   "execution_count": null,
   "id": "37e23184",
   "metadata": {
    "papermill": {
     "duration": null,
     "end_time": null,
     "exception": null,
     "start_time": null,
     "status": "completed"
    },
    "tags": []
   },
   "outputs": [],
   "source": [
    "delta_back = configs.optimazation_configs.days_back_predictions"
   ]
  },
  {
   "cell_type": "code",
   "execution_count": null,
   "id": "bfd3b53b",
   "metadata": {
    "papermill": {
     "duration": null,
     "end_time": null,
     "exception": null,
     "start_time": null,
     "status": "completed"
    },
    "tags": []
   },
   "outputs": [],
   "source": [
    "n_days = configs.data_configs.n_days\n",
    "lag_days = configs.data_configs.lags\n",
    "window = configs.data_configs.window"
   ]
  },
  {
   "cell_type": "code",
   "execution_count": null,
   "id": "0eb3e6ac",
   "metadata": {
    "papermill": {
     "duration": null,
     "end_time": null,
     "exception": null,
     "start_time": null,
     "status": "completed"
    },
    "tags": []
   },
   "outputs": [],
   "source": [
    "today = datetime.date.today()\n",
    "dates_str_vector = [(today - relativedelta(days = x)).strftime(\"%Y-%m-%d\") for x in range(delta_back)]"
   ]
  },
  {
   "attachments": {},
   "cell_type": "markdown",
   "id": "d06cbd83",
   "metadata": {
    "papermill": {
     "duration": null,
     "end_time": null,
     "exception": null,
     "start_time": null,
     "status": "completed"
    },
    "tags": []
   },
   "source": [
    "## Transfomations"
   ]
  },
  {
   "cell_type": "code",
   "execution_count": null,
   "id": "3eb00322",
   "metadata": {
    "papermill": {
     "duration": null,
     "end_time": null,
     "exception": null,
     "start_time": null,
     "status": "completed"
    },
    "tags": []
   },
   "outputs": [],
   "source": [
    "batch_predictions_csv = pd.read_csv(f'{root}forecasts.csv')\n",
    "bid_finder_output = pd.read_csv(f'{root}bids-predictions.csv')"
   ]
  },
  {
   "cell_type": "code",
   "execution_count": null,
   "id": "72d467ed",
   "metadata": {
    "papermill": {
     "duration": null,
     "end_time": null,
     "exception": null,
     "start_time": null,
     "status": "completed"
    },
    "tags": []
   },
   "outputs": [],
   "source": [
    "stocks_codes_ = batch_predictions_csv.StockCode.unique() ## all"
   ]
  },
  {
   "cell_type": "code",
   "execution_count": null,
   "id": "4d681e73",
   "metadata": {
    "papermill": {
     "duration": null,
     "end_time": null,
     "exception": null,
     "start_time": null,
     "status": "completed"
    },
    "tags": []
   },
   "outputs": [],
   "source": [
    "data_history_stocks = dict()\n",
    "for stock_code_name in stocks_codes_:\n",
    "    data_history_stocks[stock_code_name] = data_functions.get_stock_data(stock_code = stock_code_name, n_days = n_days, window = window, lags = lag_days)"
   ]
  },
  {
   "attachments": {},
   "cell_type": "markdown",
   "id": "bed51610",
   "metadata": {
    "papermill": {
     "duration": null,
     "end_time": null,
     "exception": null,
     "start_time": null,
     "status": "completed"
    },
    "tags": []
   },
   "source": [
    "### dashboards"
   ]
  },
  {
   "cell_type": "code",
   "execution_count": null,
   "id": "7820eeda",
   "metadata": {
    "papermill": {
     "duration": null,
     "end_time": null,
     "exception": null,
     "start_time": null,
     "status": "completed"
    },
    "tags": []
   },
   "outputs": [],
   "source": [
    "n_stocks = len(stocks_codes_ )\n",
    "subtitles = [ code + 'plot' for code in stocks_codes_]"
   ]
  },
  {
   "cell_type": "code",
   "execution_count": null,
   "id": "f0818a48",
   "metadata": {
    "papermill": {
     "duration": null,
     "end_time": null,
     "exception": null,
     "start_time": null,
     "status": "completed"
    },
    "tags": []
   },
   "outputs": [],
   "source": [
    "data_sets=data_history_stocks\n",
    "predictions = batch_predictions_csv\n",
    "bid_finder = bid_finder_output"
   ]
  },
  {
   "cell_type": "code",
   "execution_count": null,
   "id": "fc0747e0",
   "metadata": {
    "papermill": {
     "duration": null,
     "end_time": null,
     "exception": null,
     "start_time": null,
     "status": "completed"
    },
    "tags": []
   },
   "outputs": [],
   "source": [
    "fig = make_subplots(rows=n_stocks, cols=1,vertical_spacing = 0.1,shared_xaxes=True,\n",
    "                           subplot_titles=subtitles)\n",
    "\n",
    "for i,stock_code in enumerate(stocks_codes_):\n",
    "    i = i+1\n",
    "    df = data_sets[stock_code]\n",
    "    df['Date'] = pd.to_datetime(df['Date'], format='%Y-%m-%d',utc=True).dt.date\n",
    "    stock_prediction = predictions[(predictions['Type'] == 'Forecast') & (predictions['StockCode'] == stock_code)]\n",
    "    \n",
    "    bid_prediction = bid_finder[bid_finder.stock == stock_code]\n",
    "    bid_prediction['Date'] = pd.to_datetime(bid_finder_output.Date).dt.date\n",
    "\n",
    "    fig.add_trace(go.Scatter(x=df['Date'], y=df.Close, marker_color = 'blue', name='Price'),row=i, col = 1)\n",
    "    fig.add_trace(go.Scatter(x=df['Date'], y=df.Close_roll_mean, marker_color = 'grey', name='roll mean' ),row=i, col = 1)\n",
    "    fig.add_trace(go.Scatter(x=df['Date'], y=df.lower, marker_color = 'pink', name='bound', legendgroup = '1' ),row=i, col = 1)\n",
    "    fig.add_trace(go.Scatter(x=df['Date'], y=df.upper, marker_color = 'pink', name='bound', showlegend=False, legendgroup = '1' ),row=i, col = 1)\n",
    "    \n",
    "    df = bid_prediction.merge(df[['Date','Close']], on = 'Date', how = 'left')\n",
    "    df['Close'] = df['Close']*1.005\n",
    "    fig.add_trace(go.Scatter(x=df['Date'], y=df.Close, name='Bid',mode='markers', line = dict(color = 'red')),row=i, col = 1)\n",
    "    \n",
    "    last_exe_prediction_date = stock_prediction.ExecutionDate.unique()\n",
    "    last_date = max(last_exe_prediction_date)\n",
    "    \n",
    "    for i,datex in enumerate([x for x in last_exe_prediction_date if x != last_date]):\n",
    "        df = stock_prediction[stock_prediction.ExecutionDate == datex]\n",
    "        legend = True if i == 0 else False\n",
    "        fig.add_trace(go.Scatter(x=df['Date'], y=df.stock_price, mode='markers', marker_color = 'green', name='past prediction', legendgroup = '0', showlegend = legend),row=i, col = 1)\n",
    "        \n",
    "    df = stock_prediction[stock_prediction.ExecutionDate == last_date]\n",
    "    fig.add_trace(go.Scatter(x=df['Date'], y=df.stock_price, name='last prediction', line = dict(color = 'blue', dash='dash')),row=i, col = 1)\n",
    "\n",
    "fig.update_layout(height=500*n_stocks +100, width=900, title_text=f\"stocks vizualization\")\n",
    "# fig.show()\n",
    "                           "
   ]
  },
  {
   "attachments": {},
   "cell_type": "markdown",
   "id": "eb92fb51",
   "metadata": {
    "papermill": {
     "duration": null,
     "end_time": null,
     "exception": null,
     "start_time": null,
     "status": "completed"
    },
    "tags": []
   },
   "source": [
    "### saving file"
   ]
  },
  {
   "cell_type": "code",
   "execution_count": null,
   "id": "9710237f",
   "metadata": {
    "papermill": {
     "duration": null,
     "end_time": null,
     "exception": null,
     "start_time": null,
     "status": "completed"
    },
    "tags": []
   },
   "outputs": [],
   "source": [
    "fig.write_html(f\"{root}/stocks_dashboard.html\")"
   ]
  }
 ],
 "metadata": {
  "kernelspec": {
   "display_name": "Python 3",
   "language": "python",
   "name": "python3"
  },
  "language_info": {
   "codemirror_mode": {
    "name": "ipython",
    "version": 3
   },
   "file_extension": ".py",
   "mimetype": "text/x-python",
   "name": "python",
   "nbconvert_exporter": "python",
   "pygments_lexer": "ipython3",
   "version": "3.9.7"
  },
  "papermill": {
   "default_parameters": {},
   "duration": 0.448777,
   "end_time": "2023-04-09T09:16:21.922558",
   "environment_variables": {},
   "exception": null,
   "input_path": "/opt/airflow/dags/virgo_functions/dashboard_steps/create_dashboard.ipynb",
   "output_path": "/opt/airflow/dags/virgo_functions/dashboard_steps/create_dashboard.ipynb",
   "parameters": {},
   "start_time": "2023-04-09T09:16:21.473781",
   "version": "2.4.0"
  }
 },
 "nbformat": 4,
 "nbformat_minor": 5
}
